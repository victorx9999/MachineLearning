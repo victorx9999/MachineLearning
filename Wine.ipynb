{
  "nbformat": 4,
  "nbformat_minor": 0,
  "metadata": {
    "colab": {
      "name": "Wine.ipynb",
      "provenance": []
    },
    "kernelspec": {
      "name": "python3",
      "display_name": "Python 3"
    }
  },
  "cells": [
    {
      "cell_type": "code",
      "metadata": {
        "id": "Y3OVSpFZPlhS"
      },
      "source": [
        "from google.colab import drive\n",
        " \n",
        "drive.mount('/content/drive')"
      ],
      "execution_count": null,
      "outputs": []
    },
    {
      "cell_type": "code",
      "metadata": {
        "id": "CeXgbpZGQSTQ"
      },
      "source": [
        "from google.colab import drive\n",
        "drive.mount('/content/drive')"
      ],
      "execution_count": null,
      "outputs": []
    },
    {
      "cell_type": "code",
      "metadata": {
        "id": "2h-CrGxXQMCG"
      },
      "source": [
        "import pandas as pd\n",
        "from sklearn.model_selection import train_test_split\n",
        "from sklearn import tree\n",
        "from sklearn import metrics\n",
        "from sklearn.neighbors import KNeighborsClassifier\n",
        "import statistics\n",
        "import numpy\n",
        "import math\n",
        "from collections import Counter\n",
        "\n",
        "# url = '/content/drive/My Drive/Tarefas IFPB/Topicos/wine.data'\n",
        "\n",
        "url = 'https://raw.githubusercontent.com/victorx9999/MachineLearning/master/data/wine.data'\n",
        "\n",
        "col_names = ['label','x0','x1', 'x2', 'x3', 'x4','x5','x6','x7','x8','x9','x10','x11','x12']\n",
        "feature_cols = ['x0','x1', 'x2', 'x3', 'x4', 'x5','x6', 'x7','x8','x9','x10','x11','x12']\n",
        "\n",
        "dataset = pd.read_csv(url, header=None, names=col_names)\n",
        "\n",
        "x = dataset[feature_cols]\n",
        "y = dataset.label"
      ],
      "execution_count": 1,
      "outputs": []
    },
    {
      "cell_type": "code",
      "metadata": {
        "id": "6vsZC4pCQiip",
        "outputId": "0e45327a-9a77-4ce3-df61-993fad48c730",
        "colab": {
          "base_uri": "https://localhost:8080/",
          "height": 68
        }
      },
      "source": [
        "X_train, X_test, y_train, y_test = train_test_split(x, y, test_size=0.2, random_state=None, stratify=y) # 80% treino e 20% teste\n",
        "\n",
        "n_10 = 10\n",
        "\n",
        "model = KNeighborsClassifier(n_neighbors=n_10, metric='euclidean', algorithm='brute')\n",
        "model = model.fit(X_train, y_train)\n",
        "\n",
        "result_knn10 = model.predict(X_test)\n",
        "acc = metrics.accuracy_score(result_knn10, y_test)\n",
        "show = round(acc * 100)\n",
        "print(\"{}%\".format(show))\n",
        "\n",
        "print(list(result_knn10))\n",
        "print(list(y_test))\n",
        "#MÉDIA RESULTADO 67.0%"
      ],
      "execution_count": 5,
      "outputs": [
        {
          "output_type": "stream",
          "text": [
            "78.0%\n",
            "[1, 1, 3, 2, 3, 3, 1, 1, 1, 2, 3, 2, 1, 2, 3, 2, 3, 3, 1, 2, 1, 2, 3, 3, 3, 1, 3, 2, 3, 1, 3, 1, 3, 1, 2, 2]\n",
            "[1, 1, 3, 2, 2, 3, 1, 1, 1, 3, 2, 2, 1, 2, 3, 2, 2, 3, 1, 2, 1, 2, 3, 2, 2, 1, 3, 2, 3, 1, 3, 1, 2, 1, 2, 3]\n"
          ],
          "name": "stdout"
        }
      ]
    },
    {
      "cell_type": "code",
      "metadata": {
        "id": "kiAo39vJRHiC",
        "outputId": "4d6fae69-897c-451f-9ad7-78fb5fb53422",
        "colab": {
          "base_uri": "https://localhost:8080/",
          "height": 68
        }
      },
      "source": [
        "X_train, X_test, y_train, y_test = train_test_split(x, y, test_size=0.2, random_state=None, stratify=y) # 80% treino e 20% teste\n",
        "\n",
        "n_20 = 20\n",
        "\n",
        "model = KNeighborsClassifier(n_neighbors=n_20, metric='euclidean', algorithm='brute')\n",
        "model = model.fit(X_train, y_train)\n",
        "\n",
        "result_knn20 = model.predict(X_test)\n",
        "acc = metrics.accuracy_score(result_knn20, y_test)\n",
        "show = round(acc * 100)\n",
        "print(\"{}%\".format(show))\n",
        "\n",
        "print(list(result_knn20))\n",
        "print(list(y_test))\n",
        "\n",
        "# pd.DataFrame.from_dict(result_knn20)\n",
        "#Média RESULTADO 72.0%"
      ],
      "execution_count": 4,
      "outputs": [
        {
          "output_type": "stream",
          "text": [
            "61.0%\n",
            "[3, 3, 2, 3, 2, 2, 1, 1, 3, 2, 2, 1, 1, 2, 1, 3, 2, 2, 2, 2, 1, 3, 3, 1, 1, 3, 3, 2, 1, 2, 3, 1, 1, 2, 2, 2]\n",
            "[2, 2, 3, 3, 2, 2, 1, 1, 3, 2, 2, 1, 1, 3, 1, 2, 3, 2, 2, 2, 1, 1, 1, 1, 1, 2, 2, 3, 1, 2, 3, 3, 1, 3, 3, 2]\n"
          ],
          "name": "stdout"
        }
      ]
    },
    {
      "cell_type": "code",
      "metadata": {
        "id": "GqLnkTAuRoHK"
      },
      "source": [
        "X_train, X_test, y_train, y_test = train_test_split(x, y, test_size=0.2, random_state=None, stratify=y) # 80% treino e 20% teste\n",
        "\n",
        "n_30 = 30\n",
        "\n",
        "model = KNeighborsClassifier(n_neighbors=n_30, metric='euclidean', algorithm='brute')\n",
        "model = model.fit(X_train, y_train)\n",
        "\n",
        "result_knn30 = model.predict(X_test)\n",
        "acc = metrics.accuracy_score(result_knn30, y_test)\n",
        "show = round(acc * 100)\n",
        "print(\"{}%\".format(show))\n",
        "\n",
        "print(list(result_knn30))\n",
        "print(list(y_test))\n",
        "\n",
        "#MÉDIA RESULTADO 72.0%"
      ],
      "execution_count": null,
      "outputs": []
    },
    {
      "cell_type": "code",
      "metadata": {
        "id": "uJBT2rgDTVCW"
      },
      "source": [
        "X_train, X_test, y_train, y_test = train_test_split(x, y, test_size=0.2, random_state=None, stratify=y) # 80% treino e 20% teste\n",
        "\n",
        "n_30 = 30\n",
        "\n",
        "model = KNeighborsClassifier(n_neighbors=n_30, metric='manhattan', algorithm='brute')\n",
        "model = model.fit(X_train, y_train)\n",
        "\n",
        "result_knn30 = model.predict(X_test)\n",
        "acc = metrics.accuracy_score(result_knn30, y_test)\n",
        "show = round(acc * 100)\n",
        "print(\"{}%\".format(show))\n",
        "\n",
        "print(list(result_knn30))\n",
        "print(list(y_test))\n",
        "\n",
        "#MÉDIA RESULTADO 72.0%"
      ],
      "execution_count": null,
      "outputs": []
    },
    {
      "cell_type": "code",
      "metadata": {
        "id": "83YWstNeUPYG"
      },
      "source": [
        "X_train, X_test, y_train, y_test = train_test_split(x, y, test_size=0.2, random_state=None, stratify=y) # 80% treino e 20% teste\n",
        "\n",
        "n_20 = 20\n",
        "\n",
        "model = KNeighborsClassifier(n_neighbors=n_20, metric='manhattan', algorithm='brute')\n",
        "model = model.fit(X_train, y_train)\n",
        "\n",
        "result_knn20 = model.predict(X_test)\n",
        "acc = metrics.accuracy_score(result_knn20, y_test)\n",
        "show = round(acc * 100)\n",
        "print(\"{}%\".format(show))\n",
        "\n",
        "print(list(result_knn20))\n",
        "print(list(y_test))\n",
        "\n",
        "#MÉDIA RESULTADO 75.0%"
      ],
      "execution_count": null,
      "outputs": []
    },
    {
      "cell_type": "code",
      "metadata": {
        "id": "WXia8rjWUVGW"
      },
      "source": [
        "X_train, X_test, y_train, y_test = train_test_split(x, y, test_size=0.2, random_state=None, stratify=y) # 80% treino e 20% teste\n",
        "\n",
        "n_10 = 10\n",
        "\n",
        "model = KNeighborsClassifier(n_neighbors=n_10, metric='manhattan', algorithm='brute')\n",
        "model = model.fit(X_train, y_train)\n",
        "\n",
        "result_knn10 = model.predict(X_test)\n",
        "acc = metrics.accuracy_score(result_knn10, y_test)\n",
        "show = round(acc * 100)\n",
        "print(\"{}%\".format(show))\n",
        "\n",
        "print(list(result_knn10))\n",
        "print(list(y_test))\n",
        "\n",
        "#MÉDIA RESULTADO 78.0%"
      ],
      "execution_count": null,
      "outputs": []
    },
    {
      "cell_type": "code",
      "metadata": {
        "id": "ZerksBAwVq7Q"
      },
      "source": [
        "X_train, X_test, y_train, y_test = train_test_split(x, y, test_size=0.2, random_state=None, stratify=y)\n",
        "\n",
        "model = tree.DecisionTreeClassifier(criterion=\"entropy\")\n",
        "model = model.fit(X_train, y_train)\n",
        "\n",
        "\n",
        "result = model.predict(X_test)\n",
        "acc = metrics.accuracy_score(result, y_test)\n",
        "show = round(acc * 100)\n",
        "print(\"{}%\".format(show))\n",
        "\n",
        "print(list(result))\n",
        "print(list(y_test))\n",
        "\n",
        "#MÉDIA DE 96.0%\n"
      ],
      "execution_count": null,
      "outputs": []
    },
    {
      "cell_type": "code",
      "metadata": {
        "id": "qsQff004W0q7"
      },
      "source": [
        "X_train, X_test, y_train, y_test = train_test_split(x, y, test_size=0.2, random_state=None, stratify=y)\n",
        "\n",
        "model = tree.DecisionTreeClassifier(criterion=\"gini\")\n",
        "model = model.fit(X_train, y_train)\n",
        "\n",
        "\n",
        "result = model.predict(X_test)\n",
        "acc = metrics.accuracy_score(result, y_test)\n",
        "show = round(acc * 100)\n",
        "print(\"{}%\".format(show))\n",
        "\n",
        "print(list(result))\n",
        "print(list(y_test))\n",
        "\n",
        "#MÉDIA DE 86.0%"
      ],
      "execution_count": null,
      "outputs": []
    },
    {
      "cell_type": "code",
      "metadata": {
        "id": "OYZ3StdRhGpj"
      },
      "source": [
        "#Improved KNN\n",
        "\n",
        "X_train, X_test, y_train, y_test = train_test_split(x, y, test_size=0.2, random_state=None, stratify=y) # 80% treino e 20% teste\n",
        "\n",
        "K = 10   # Quantidade de vizinhos mais próximos\n",
        "# K = 20\n",
        "\n",
        "### Tranforma os dados em listas\n",
        "\n",
        "train_x = X_train.values.tolist()\n",
        "train_y = y_train.values.tolist()\n",
        "\n",
        "test_x = X_test.values.tolist()\n",
        "test_y = y_test.values.tolist()"
      ],
      "execution_count": null,
      "outputs": []
    },
    {
      "cell_type": "code",
      "metadata": {
        "id": "hXFiCcqqhlG2"
      },
      "source": [
        "def knn(train_x, train_y, test, k):\n",
        "  results = []\n",
        "  \n",
        "  for i in range(0,len(train_x)):\n",
        "    r = 0\n",
        "    \n",
        "    for j in range(0,len(test)):\n",
        "      r += (test[j] - train_x[i][j]) ** 2 # Distância Euclidiana\n",
        "    \n",
        "    results.append(math.sqrt(r)) # Distância Euclidiana\n",
        "    \n",
        "  indexes = numpy.argsort(results) # retorna os índices ordenados\n",
        "  \n",
        "  indexes = indexes[0:k] # Pega os k índices mais próximos\n",
        "  \n",
        "  res = [train_y[i] for i in indexes] # Retorna a classe de cada um dos vizinhos\n",
        "  \n",
        "  final = Counter(res)\n",
        "\n",
        "  return final.most_common(1)[0][0]"
      ],
      "execution_count": null,
      "outputs": []
    },
    {
      "cell_type": "code",
      "metadata": {
        "id": "i-Vv8OCuibVu"
      },
      "source": [
        "def calcular_raios(train_x, train_y):\n",
        "  e = 1e-20\n",
        "  raios = []\n",
        "\n",
        "  for i in range(len(train_x)):\n",
        "    newData = train_x.copy()\n",
        "    newData.pop(i)\n",
        "    newData_y = train_y.copy()\n",
        "    newData_y.pop(i)\n",
        "\n",
        "    results = []\n",
        "\n",
        "    for j in range(len(newData)):\n",
        "      r = 0\n",
        "      \n",
        "      for k in range(len(train_x[i])):\n",
        "        r += (train_x[i][k] - newData[j][k]) ** 2 # Distância Euclidiana\n",
        "  \n",
        "      results.append(math.sqrt(r))\n",
        "    \n",
        "    indexes = numpy.argsort(results) # retorna os índices ordenados\n",
        "\n",
        "    aux = 0\n",
        "    while train_y[i] == newData_y[indexes[aux]]:\n",
        "      aux += 1\n",
        "    \n",
        "    raios.append(results[indexes[aux]] - e)\n",
        "\n",
        "  return raios\n",
        "\n",
        "def knn_improve(train_x, train_y, test, k, raios):\n",
        "  results = []\n",
        "  \n",
        "  for i in range(len(train_x)):\n",
        "    r = 0\n",
        "    \n",
        "    for j in range(len(test)):\n",
        "      r += (test[j] - train_x[i][j]) ** 2 # Distância Euclidiana\n",
        "    \n",
        "    results.append(math.sqrt(r)/raios[i]) # Distância Euclidiana / Raio\n",
        "    \n",
        "  indexes = numpy.argsort(results) # retorna os índices ordenados\n",
        "  \n",
        "  indexes = indexes[0:k] # Pega os k índices mais próximos\n",
        "  \n",
        "  res = [train_y[i] for i in indexes] # Retorna a classe de cada um dos vizinhos\n",
        "  \n",
        "  final = Counter(res)\n",
        "\n",
        "  return final.most_common(1)[0][0] "
      ],
      "execution_count": null,
      "outputs": []
    },
    {
      "cell_type": "code",
      "metadata": {
        "id": "Bf1LkDemigru"
      },
      "source": [
        "resultKNN = []\n",
        "resultKNN_improve = []\n",
        "\n",
        "raios = calcular_raios(train_x, train_y)\n",
        "\n",
        "for i in range(len(test_x)):\n",
        "  \n",
        "  classe = knn(train_x, train_y, test_x[i], K)\n",
        "  resultKNN.append(classe)\n",
        "  \n",
        "  classeI = knn_improve(train_x, train_y, test_x[i], K, raios)\n",
        "  resultKNN_improve.append(classeI)\n",
        "\n",
        "acc = metrics.accuracy_score(resultKNN, test_y)\n",
        "acc2 = metrics.accuracy_score(resultKNN_improve, test_y)\n",
        "show = round(acc * 100)\n",
        "show2 = round(acc2 * 100)\n",
        "print(\"{}%\".format(show))\n",
        "print(\"{}%\".format(show2))\n",
        "\n",
        "print(resultKNN)\n",
        "print(resultKNN_improve)\n",
        "print(test_y)"
      ],
      "execution_count": null,
      "outputs": []
    }
  ]
}